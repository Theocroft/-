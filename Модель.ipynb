{
 "cells": [
  {
   "cell_type": "code",
   "execution_count": 7,
   "metadata": {},
   "outputs": [],
   "source": [
    "import pandas as pd\n",
    "import  matplotlib.pyplot as plt\n",
    "import seaborn as sns\n",
    "from sklearn.cluster import KMeans"
   ]
  },
  {
   "cell_type": "code",
   "execution_count": 8,
   "metadata": {},
   "outputs": [],
   "source": [
    "classification = pd.read_excel(\"Class.xlsx\")"
   ]
  },
  {
   "cell_type": "code",
   "execution_count": 9,
   "metadata": {},
   "outputs": [
    {
     "name": "stdout",
     "output_type": "stream",
     "text": [
      "<class 'pandas.core.frame.DataFrame'>\n",
      "RangeIndex: 783 entries, 0 to 782\n",
      "Data columns (total 32 columns):\n",
      " #   Column                                                           Non-Null Count  Dtype  \n",
      "---  ------                                                           --------------  -----  \n",
      " 0   Unnamed: 0                                                       783 non-null    int64  \n",
      " 1   ID                                                               783 non-null    int64  \n",
      " 2   Яндекс Директ                                                    783 non-null    int64  \n",
      " 3   Яндекс Маркет                                                    783 non-null    int64  \n",
      " 4   Яндекс Бизнес                                                    783 non-null    int64  \n",
      " 5   Рекламная подписка на Яндекс                                     783 non-null    int64  \n",
      " 6   Реклама на Яндекс Картах                                         783 non-null    int64  \n",
      " 7   Реклама в поиске Яндекс                                          783 non-null    int64  \n",
      " 8   Использую рекламные инструменты Яндекс, но не знаю какие именно  783 non-null    int64  \n",
      " 9   Реклама во ВКонтакте                                             783 non-null    int64  \n",
      " 10  Реклама в Одноклассники                                          783 non-null    int64  \n",
      " 11  myTarget                                                         783 non-null    int64  \n",
      " 12  Реклама на Avito                                                 783 non-null    int64  \n",
      " 13  Платное размещение в 2ГИС                                        783 non-null    int64  \n",
      " 14  Реклама на Ozon                                                  783 non-null    int64  \n",
      " 15  Реклама на Wildberries                                           783 non-null    int64  \n",
      " 16  Сбермегамаркет                                                   783 non-null    int64  \n",
      " 17  Другое                                                           783 non-null    int64  \n",
      " 18  Ничего из перечисленного                                         783 non-null    int64  \n",
      " 19  Работа с рекламой                                                783 non-null    int64  \n",
      " 20  Продолжительность работы с рекламной системой                    783 non-null    int64  \n",
      " 21  Изменение бюджетов                                               783 non-null    int64  \n",
      " 22  Возраст бизнеса                                                  783 non-null    int64  \n",
      " 23  Пол                                                              783 non-null    int64  \n",
      " 24  Федеральный округ                                                783 non-null    int64  \n",
      " 25  Возраст                                                          783 non-null    int64  \n",
      " 26  Уровень образования                                              783 non-null    int64  \n",
      " 27  Доход от бизнеса                                                 783 non-null    int64  \n",
      " 28  billing_count_x                                                  783 non-null    int64  \n",
      " 29  billing_sum_wo_nds_x                                             783 non-null    float64\n",
      " 30  days_of_life_x                                                   783 non-null    int64  \n",
      " 31  cluster                                                          783 non-null    int64  \n",
      "dtypes: float64(1), int64(31)\n",
      "memory usage: 195.9 KB\n"
     ]
    }
   ],
   "source": [
    "classification.info()"
   ]
  },
  {
   "cell_type": "code",
   "execution_count": 10,
   "metadata": {},
   "outputs": [],
   "source": [
    "clas = classification[[\"Продолжительность работы с рекламной системой\",'Изменение бюджетов', 'Возраст бизнеса', 'Пол','Федеральный округ', 'Возраст', \n",
    "                       'Уровень образования', 'Доход от бизнеса', \"cluster\"]]"
   ]
  },
  {
   "cell_type": "code",
   "execution_count": 11,
   "metadata": {},
   "outputs": [
    {
     "name": "stdout",
     "output_type": "stream",
     "text": [
      "Размер тренировочной выборки: (391, 8)\n",
      "Размер тестовой выборки: (392, 8)\n"
     ]
    }
   ],
   "source": [
    "from sklearn.model_selection import train_test_split\n",
    "from sklearn.linear_model import LogisticRegression\n",
    "X = clas.drop('cluster', axis=1)  # Признаки\n",
    "y = clas['cluster']  # Метки классов\n",
    "\n",
    "test_size = 0.5  # Процент данных для тестовой выборки \n",
    "random_state = 42  \n",
    "X_train, X_test, y_train, y_test = train_test_split(X, y, test_size=test_size, random_state=random_state)\n",
    "\n",
    "print(\"Размер тренировочной выборки:\", X_train.shape)\n",
    "print(\"Размер тестовой выборки:\", X_test.shape)"
   ]
  },
  {
   "cell_type": "code",
   "execution_count": 12,
   "metadata": {},
   "outputs": [
    {
     "name": "stdout",
     "output_type": "stream",
     "text": [
      "Предсказанные метки классов: [0 0 1 0 0 0 0 1 0 0 1 0 1 0 0 1 1 1 0 1 1 0 0 0 0 0 0 0 0 0 1 1 1 0 0 0 1\n",
      " 0 1 0 1 0 0 1 1 0 0 1 1 0 0 0 0 0 1 1 0 1 0 0 0 2 1 0 1 0 2 0 0 0 0 0 0 0\n",
      " 0 1 1 0 0 0 1 0 0 0 1 0 0 0 0 0 0 0 1 0 0 0 0 1 0 1 0 0 1 0 1 0 1 0 0 0 1\n",
      " 0 1 0 1 1 0 1 1 1 0 1 0 1 0 0 0 0 0 0 0 0 1 0 1 0 0 1 1 0 0 0 0 0 0 0 0 1\n",
      " 1 0 0 0 1 1 0 1 0 0 1 0 1 0 1 0 0 0 0 0 0 2 1 0 1 1 0 0 1 0 0 1 1 0 0 0 1\n",
      " 0 1 0 1 1 1 0 1 0 1 0 0 1 0 1 0 0 0 0 0 0 1 0 0 0 0 2 0 0 0 0 1 0 1 0 0 0\n",
      " 1 0 0 1 0 0 0 0 0 1 2 1 0 0 0 0 1 1 0 1 1 1 0 0 0 0 1 0 0 0 0 0 0 0 0 0 0\n",
      " 0 1 0 0 1 1 0 0 1 0 0 0 0 0 2 0 0 1 1 0 0 1 0 0 1 0 0 0 0 1 0 1 0 1 0 0 1\n",
      " 0 0 0 0 0 0 1 0 1 0 0 0 1 0 1 0 1 0 0 1 0 1 0 1 0 0 0 1 0 2 0 0 0 0 1 0 0\n",
      " 0 0 0 0 1 1 0 1 1 1 0 0 0 1 0 0 1 0 0 1 1 0 0 0 0 0 0 0 0 0 0 0 0 0 1 1 1\n",
      " 0 0 1 0 0 0 2 1 1 0 0 0 1 0 1 0 0 0 1 0 0 1]\n",
      "Точность модели: 0.6096938775510204\n"
     ]
    },
    {
     "name": "stderr",
     "output_type": "stream",
     "text": [
      "c:\\Users\\Andrew\\AppData\\Local\\Programs\\Python\\Python310\\lib\\site-packages\\sklearn\\linear_model\\_logistic.py:458: ConvergenceWarning: lbfgs failed to converge (status=1):\n",
      "STOP: TOTAL NO. of ITERATIONS REACHED LIMIT.\n",
      "\n",
      "Increase the number of iterations (max_iter) or scale the data as shown in:\n",
      "    https://scikit-learn.org/stable/modules/preprocessing.html\n",
      "Please also refer to the documentation for alternative solver options:\n",
      "    https://scikit-learn.org/stable/modules/linear_model.html#logistic-regression\n",
      "  n_iter_i = _check_optimize_result(\n"
     ]
    }
   ],
   "source": [
    "\n",
    "# Создание и обучение модели\n",
    "model = LogisticRegression()  \n",
    "model.fit(X_train, y_train)  # Обучение модели на тренировочных данных\n",
    "\n",
    "\n",
    "y_pred = model.predict(X_test)\n",
    "accuracy = model.score(X_test, y_test)\n",
    "\n",
    "print(\"Предсказанные метки классов:\", y_pred)\n",
    "print(\"Точность модели:\", accuracy)"
   ]
  },
  {
   "cell_type": "code",
   "execution_count": 19,
   "metadata": {},
   "outputs": [
    {
     "name": "stdout",
     "output_type": "stream",
     "text": [
      "Стабильные клиенты\n"
     ]
    },
    {
     "name": "stderr",
     "output_type": "stream",
     "text": [
      "c:\\Users\\Andrew\\AppData\\Local\\Programs\\Python\\Python310\\lib\\site-packages\\sklearn\\base.py:439: UserWarning: X does not have valid feature names, but LogisticRegression was fitted with feature names\n",
      "  warnings.warn(\n"
     ]
    }
   ],
   "source": [
    "adv_job = int(input(\"Введите подолжительность работы с рекламной системой: \"))\n",
    "budget = int(input(\"Введите состояние изменения бюджета: \"))\n",
    "business = int(input(\"Введите возраст бизнеса: \"))\n",
    "gender = int(input(\"Введите пол человека: \"))\n",
    "Federal = int(input(\"Введите федеральный округ: \"))\n",
    "Age = int(input(\"Введите возраст: \"))\n",
    "Education = int(input(\"Введите уровень образования: \"))\n",
    "Income = int(input(\"Введите доход от бизнеса: \"))\n",
    "\n",
    "new_data = [[adv_job, budget, business, gender, Federal, Age, Education, Income]]  \n",
    "\n",
    "\n",
    "predicted_class = model.predict(new_data)\n",
    "if predicted_class == 0:\n",
    "    print(\"Начинающие предприниматели\")\n",
    "elif predicted_class == 1:\n",
    "    print(\"Стабильные клиенты\")\n",
    "else:\n",
    "    print(\"Крупные клиенты\")"
   ]
  }
 ],
 "metadata": {
  "kernelspec": {
   "display_name": "Python 3",
   "language": "python",
   "name": "python3"
  },
  "language_info": {
   "codemirror_mode": {
    "name": "ipython",
    "version": 3
   },
   "file_extension": ".py",
   "mimetype": "text/x-python",
   "name": "python",
   "nbconvert_exporter": "python",
   "pygments_lexer": "ipython3",
   "version": "3.10.7"
  },
  "orig_nbformat": 4
 },
 "nbformat": 4,
 "nbformat_minor": 2
}
